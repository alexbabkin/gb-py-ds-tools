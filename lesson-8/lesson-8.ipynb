{
 "cells": [
  {
   "cell_type": "markdown",
   "metadata": {},
   "source": [
    "# TASK 1"
   ]
  },
  {
   "cell_type": "code",
   "execution_count": 6,
   "metadata": {},
   "outputs": [],
   "source": [
    "import numpy as np\n",
    "import pandas as pd\n",
    "from sklearn.datasets import load_boston"
   ]
  },
  {
   "cell_type": "code",
   "execution_count": 2,
   "metadata": {},
   "outputs": [
    {
     "data": {
      "text/html": [
       "<div>\n",
       "<style scoped>\n",
       "    .dataframe tbody tr th:only-of-type {\n",
       "        vertical-align: middle;\n",
       "    }\n",
       "\n",
       "    .dataframe tbody tr th {\n",
       "        vertical-align: top;\n",
       "    }\n",
       "\n",
       "    .dataframe thead th {\n",
       "        text-align: right;\n",
       "    }\n",
       "</style>\n",
       "<table border=\"1\" class=\"dataframe\">\n",
       "  <thead>\n",
       "    <tr style=\"text-align: right;\">\n",
       "      <th></th>\n",
       "      <th>CRIM</th>\n",
       "      <th>ZN</th>\n",
       "      <th>INDUS</th>\n",
       "      <th>CHAS</th>\n",
       "      <th>NOX</th>\n",
       "      <th>RM</th>\n",
       "      <th>AGE</th>\n",
       "      <th>DIS</th>\n",
       "      <th>RAD</th>\n",
       "      <th>TAX</th>\n",
       "      <th>PTRATIO</th>\n",
       "      <th>B</th>\n",
       "      <th>LSTAT</th>\n",
       "    </tr>\n",
       "  </thead>\n",
       "  <tbody>\n",
       "    <tr>\n",
       "      <th>0</th>\n",
       "      <td>0.00632</td>\n",
       "      <td>18.0</td>\n",
       "      <td>2.31</td>\n",
       "      <td>0.0</td>\n",
       "      <td>0.538</td>\n",
       "      <td>6.575</td>\n",
       "      <td>65.2</td>\n",
       "      <td>4.0900</td>\n",
       "      <td>1.0</td>\n",
       "      <td>296.0</td>\n",
       "      <td>15.3</td>\n",
       "      <td>396.90</td>\n",
       "      <td>4.98</td>\n",
       "    </tr>\n",
       "    <tr>\n",
       "      <th>1</th>\n",
       "      <td>0.02731</td>\n",
       "      <td>0.0</td>\n",
       "      <td>7.07</td>\n",
       "      <td>0.0</td>\n",
       "      <td>0.469</td>\n",
       "      <td>6.421</td>\n",
       "      <td>78.9</td>\n",
       "      <td>4.9671</td>\n",
       "      <td>2.0</td>\n",
       "      <td>242.0</td>\n",
       "      <td>17.8</td>\n",
       "      <td>396.90</td>\n",
       "      <td>9.14</td>\n",
       "    </tr>\n",
       "    <tr>\n",
       "      <th>2</th>\n",
       "      <td>0.02729</td>\n",
       "      <td>0.0</td>\n",
       "      <td>7.07</td>\n",
       "      <td>0.0</td>\n",
       "      <td>0.469</td>\n",
       "      <td>7.185</td>\n",
       "      <td>61.1</td>\n",
       "      <td>4.9671</td>\n",
       "      <td>2.0</td>\n",
       "      <td>242.0</td>\n",
       "      <td>17.8</td>\n",
       "      <td>392.83</td>\n",
       "      <td>4.03</td>\n",
       "    </tr>\n",
       "    <tr>\n",
       "      <th>3</th>\n",
       "      <td>0.03237</td>\n",
       "      <td>0.0</td>\n",
       "      <td>2.18</td>\n",
       "      <td>0.0</td>\n",
       "      <td>0.458</td>\n",
       "      <td>6.998</td>\n",
       "      <td>45.8</td>\n",
       "      <td>6.0622</td>\n",
       "      <td>3.0</td>\n",
       "      <td>222.0</td>\n",
       "      <td>18.7</td>\n",
       "      <td>394.63</td>\n",
       "      <td>2.94</td>\n",
       "    </tr>\n",
       "    <tr>\n",
       "      <th>4</th>\n",
       "      <td>0.06905</td>\n",
       "      <td>0.0</td>\n",
       "      <td>2.18</td>\n",
       "      <td>0.0</td>\n",
       "      <td>0.458</td>\n",
       "      <td>7.147</td>\n",
       "      <td>54.2</td>\n",
       "      <td>6.0622</td>\n",
       "      <td>3.0</td>\n",
       "      <td>222.0</td>\n",
       "      <td>18.7</td>\n",
       "      <td>396.90</td>\n",
       "      <td>5.33</td>\n",
       "    </tr>\n",
       "  </tbody>\n",
       "</table>\n",
       "</div>"
      ],
      "text/plain": [
       "      CRIM    ZN  INDUS  CHAS    NOX     RM   AGE     DIS  RAD    TAX  \\\n",
       "0  0.00632  18.0   2.31   0.0  0.538  6.575  65.2  4.0900  1.0  296.0   \n",
       "1  0.02731   0.0   7.07   0.0  0.469  6.421  78.9  4.9671  2.0  242.0   \n",
       "2  0.02729   0.0   7.07   0.0  0.469  7.185  61.1  4.9671  2.0  242.0   \n",
       "3  0.03237   0.0   2.18   0.0  0.458  6.998  45.8  6.0622  3.0  222.0   \n",
       "4  0.06905   0.0   2.18   0.0  0.458  7.147  54.2  6.0622  3.0  222.0   \n",
       "\n",
       "   PTRATIO       B  LSTAT  \n",
       "0     15.3  396.90   4.98  \n",
       "1     17.8  396.90   9.14  \n",
       "2     17.8  392.83   4.03  \n",
       "3     18.7  394.63   2.94  \n",
       "4     18.7  396.90   5.33  "
      ]
     },
     "execution_count": 2,
     "metadata": {},
     "output_type": "execute_result"
    }
   ],
   "source": [
    "boston = load_boston()\n",
    "data = boston.data\n",
    "feature_names = boston.feature_names\n",
    "target = boston.target\n",
    "X = pd.DataFrame(data, columns=feature_names)\n",
    "X.head()"
   ]
  },
  {
   "cell_type": "code",
   "execution_count": 47,
   "metadata": {},
   "outputs": [],
   "source": [
    "from sklearn.model_selection import train_test_split\n",
    "X_train, X_test, y_train, y_test = train_test_split(X, y, test_size=0.2, random_state=42)"
   ]
  },
  {
   "cell_type": "code",
   "execution_count": 48,
   "metadata": {},
   "outputs": [],
   "source": [
    "from sklearn.preprocessing import StandardScaler"
   ]
  },
  {
   "cell_type": "code",
   "execution_count": 49,
   "metadata": {},
   "outputs": [],
   "source": [
    "scaler = StandardScaler()\n",
    "X_train_scaled = pd.DataFrame(scaler.fit_transform(X_train), columns=boston.feature_names)\n",
    "X_test_scaled = pd.DataFrame(scaler.transform(X_test), columns=boston.feature_names)"
   ]
  },
  {
   "cell_type": "code",
   "execution_count": 42,
   "metadata": {},
   "outputs": [],
   "source": [
    "from sklearn.manifold import TSNE"
   ]
  },
  {
   "cell_type": "code",
   "execution_count": 87,
   "metadata": {},
   "outputs": [
    {
     "data": {
      "text/plain": [
       "array([[-2.50154285e+01, -1.76191216e+01],\n",
       "       [ 1.10796223e+01,  3.44669747e+00],\n",
       "       [ 1.65693741e+01,  1.60898819e+01],\n",
       "       [-3.59470596e+01, -2.09588261e+01],\n",
       "       [ 8.60180187e+00, -4.46709061e+00],\n",
       "       [ 1.45364809e+01,  7.31125975e+00],\n",
       "       [ 1.26080637e+01,  6.73879147e+00],\n",
       "       [ 1.88180180e+01,  2.48921776e+01],\n",
       "       [-3.62286949e+01, -2.22675762e+01],\n",
       "       [-3.30376320e+01, -2.25716438e+01],\n",
       "       [ 1.25568914e+01,  7.40275908e+00],\n",
       "       [ 6.97644281e+00,  5.46441936e+00],\n",
       "       [ 3.14133024e+00,  7.58035851e+00],\n",
       "       [-3.34974556e+01, -2.13762951e+01],\n",
       "       [ 3.37989926e+00,  9.41570091e+00],\n",
       "       [ 9.85248852e+00, -7.29177380e+00],\n",
       "       [ 7.09006023e+00, -1.55186915e+00],\n",
       "       [ 1.61222897e+01,  1.73081875e+01],\n",
       "       [ 2.10530567e+01,  1.15185518e+01],\n",
       "       [ 1.90510635e+01,  1.52752666e+01],\n",
       "       [-2.99236813e+01, -2.06489334e+01],\n",
       "       [ 4.43938303e+00, -1.47272527e-01],\n",
       "       [ 1.60674458e+01,  7.51670885e+00],\n",
       "       [ 1.18970413e+01,  5.00851536e+00],\n",
       "       [ 1.86116486e+01,  2.45857964e+01],\n",
       "       [ 4.23635197e+00,  7.99829865e+00],\n",
       "       [-1.11323156e+01, -2.30457020e+00],\n",
       "       [ 2.43270564e+00,  1.17524920e+01],\n",
       "       [ 8.31921875e-01, -1.29986315e+01],\n",
       "       [ 1.73036480e+01,  9.59926891e+00],\n",
       "       [ 7.92428255e+00, -6.61344671e+00],\n",
       "       [ 3.56780958e+00, -1.50325823e+00],\n",
       "       [-6.33678102e+00, -4.65219593e+00],\n",
       "       [-3.37600479e+01, -2.02348366e+01],\n",
       "       [ 1.24295893e+01,  5.88519859e+00],\n",
       "       [ 1.70350380e+01,  2.58250980e+01],\n",
       "       [ 1.59490013e+01,  2.19994640e+01],\n",
       "       [ 8.48311996e+00, -7.07910967e+00],\n",
       "       [ 8.63207912e+00, -6.04792261e+00],\n",
       "       [ 1.65379753e+01,  2.31903095e+01],\n",
       "       [ 1.79866047e+01,  2.29859257e+01],\n",
       "       [-1.04265575e+01,  2.26595163e+00],\n",
       "       [-2.76497173e+01, -1.91442490e+01],\n",
       "       [ 1.45374737e+01,  6.49962127e-01],\n",
       "       [-1.07423677e+01, -1.87329233e+00],\n",
       "       [-2.25915661e+01, -2.09879513e+01],\n",
       "       [ 8.47502899e+00, -7.89759731e+00],\n",
       "       [ 1.17480755e+00,  1.00821152e+01],\n",
       "       [-3.40500908e+01, -2.13098679e+01],\n",
       "       [-2.17364388e+01, -2.11126842e+01],\n",
       "       [ 9.95872021e+00,  8.76238155e+00],\n",
       "       [ 4.82724810e+00, -2.24440426e-01],\n",
       "       [ 1.50437880e+01,  5.28296137e+00],\n",
       "       [ 1.32010622e+01,  5.95642281e+00],\n",
       "       [-1.91987686e+01, -1.87614708e+01],\n",
       "       [-1.95828915e+01, -2.29717503e+01],\n",
       "       [ 9.63398075e+00,  9.47335339e+00],\n",
       "       [-2.87068214e+01, -2.03174400e+01],\n",
       "       [ 7.41158152e+00,  5.08907509e+00],\n",
       "       [ 2.07841492e+01,  1.16700001e+01],\n",
       "       [ 7.47564936e+00, -3.28677297e+00],\n",
       "       [ 1.10225344e+01,  5.73437691e+00],\n",
       "       [ 1.30141230e+01, -2.29306650e+00],\n",
       "       [ 6.90307808e+00, -5.70587730e+00],\n",
       "       [-1.92936075e+00,  8.66910839e+00],\n",
       "       [-2.13714466e+01, -1.95408554e+01],\n",
       "       [ 8.93602753e+00, -6.60808516e+00],\n",
       "       [ 7.08634996e+00,  1.47264194e+01],\n",
       "       [-3.05450320e+00, -1.25836344e+01],\n",
       "       [ 5.89230728e+00, -6.81779623e+00],\n",
       "       [ 1.29569464e+01,  4.79141283e+00],\n",
       "       [-2.43839765e+00,  6.00434124e-01],\n",
       "       [-1.82334404e+01, -2.08098564e+01],\n",
       "       [ 4.85224771e+00, -1.36752641e+00],\n",
       "       [ 3.99962187e+00,  1.91739872e-02],\n",
       "       [ 7.06540728e+00,  9.25777245e+00],\n",
       "       [ 1.43307581e+01,  2.05121803e+01],\n",
       "       [ 1.08750916e+01,  1.17562094e+01],\n",
       "       [-6.70864773e+00, -4.72625208e+00],\n",
       "       [-2.55733280e+01, -1.61065350e+01],\n",
       "       [-2.37524109e+01, -1.76859245e+01],\n",
       "       [-1.72432995e+01, -1.17753458e+01],\n",
       "       [-1.25900116e+01,  4.20986891e+00],\n",
       "       [-1.24165468e+01,  2.19135523e+00],\n",
       "       [-3.52099915e+01, -2.12705402e+01],\n",
       "       [-1.31161416e+00, -1.38110361e+01],\n",
       "       [-1.65641670e+01, -1.07189741e+01],\n",
       "       [ 1.80080147e+01,  1.29283962e+01],\n",
       "       [-2.07566299e+01, -2.25781765e+01],\n",
       "       [-2.49585199e+00, -1.22386086e+00],\n",
       "       [ 6.02217674e+00, -1.87990820e+00],\n",
       "       [-2.21000233e+01, -1.92490902e+01],\n",
       "       [-2.60691605e+01, -1.92489052e+01],\n",
       "       [ 1.57353878e+01,  2.20732231e+01],\n",
       "       [ 1.94375305e+01,  1.55268888e+01],\n",
       "       [ 6.63444567e+00, -7.43819380e+00],\n",
       "       [-2.23089123e+01, -2.22312794e+01],\n",
       "       [-5.03199863e+00, -4.85438108e+00],\n",
       "       [ 1.45890741e+01,  7.85572112e-01],\n",
       "       [-1.05706348e+01, -1.83218479e+00],\n",
       "       [-1.23117971e+01,  2.39835405e+00],\n",
       "       [ 1.04074097e+01,  1.36357279e+01],\n",
       "       [ 1.28368816e+01,  1.29053774e+01],\n",
       "       [ 2.00619354e+01,  1.34842224e+01],\n",
       "       [-2.32769227e+00, -1.76287103e+00],\n",
       "       [-1.32988062e+01,  2.23566458e-01],\n",
       "       [ 1.73586235e+01,  2.49236584e+01],\n",
       "       [ 2.81509423e+00,  8.34192276e+00],\n",
       "       [ 1.66602516e+01,  5.71358585e+00],\n",
       "       [ 6.84171772e+00,  2.04758477e+00],\n",
       "       [-3.47080116e+01, -2.12102776e+01],\n",
       "       [ 2.00139503e+01,  1.70160122e+01],\n",
       "       [ 5.65875912e+00, -9.08413887e-01],\n",
       "       [ 1.63467407e+01,  2.48025875e+01],\n",
       "       [ 1.54282970e+01,  1.76907272e+01],\n",
       "       [-1.66232319e+01, -1.98473606e+01],\n",
       "       [-1.71671886e+01, -1.13798819e+01],\n",
       "       [-2.63241787e+01, -1.84921341e+01],\n",
       "       [ 4.82793760e+00,  1.14539423e+01],\n",
       "       [-2.18032050e+00,  7.81295443e+00],\n",
       "       [ 2.90298986e+00,  8.36978722e+00],\n",
       "       [-2.66921406e+01, -1.71210384e+01],\n",
       "       [-2.06268330e+01, -2.01220493e+01],\n",
       "       [ 8.68998623e+00,  3.03505993e+00],\n",
       "       [ 1.47697945e+01,  2.48450413e+01],\n",
       "       [-7.09394872e-01, -1.15458841e+01],\n",
       "       [-2.03517418e+01, -1.66922588e+01],\n",
       "       [ 2.11684608e+01,  1.22413940e+01],\n",
       "       [ 1.71814289e+01,  2.05019779e+01],\n",
       "       [-2.55572147e+01, -1.98877697e+01],\n",
       "       [ 1.97918472e+01,  1.28759584e+01],\n",
       "       [ 3.61752534e+00,  8.50194454e-01],\n",
       "       [ 5.04119635e+00,  8.78684425e+00],\n",
       "       [-2.05856371e+00,  6.63486052e+00],\n",
       "       [ 1.48377085e+01,  1.14625750e+01],\n",
       "       [-1.64472065e+01, -9.78312778e+00],\n",
       "       [ 3.94333315e+00, -5.73663807e+00],\n",
       "       [ 1.32619257e+01,  2.04741344e+01],\n",
       "       [-2.96063900e+00, -5.76522350e-01],\n",
       "       [-5.39832020e+00, -2.96397638e+00],\n",
       "       [ 5.38371658e+00,  5.56278467e+00],\n",
       "       [-2.27837372e+01, -1.87409592e+01],\n",
       "       [ 7.83307552e+00,  4.44872665e+00],\n",
       "       [ 5.97152185e+00,  1.83719206e+00],\n",
       "       [ 7.07637453e+00,  1.47371817e+01],\n",
       "       [-2.70215225e+01, -1.63273888e+01],\n",
       "       [ 6.56622887e+00, -6.99594021e+00],\n",
       "       [ 1.18804064e+01,  1.22732553e+01],\n",
       "       [ 1.35797205e+01,  4.84155941e+00],\n",
       "       [ 8.16723919e+00,  4.94886011e-01],\n",
       "       [-2.45375514e+00, -2.17376661e+00],\n",
       "       [-2.44439545e+01, -2.21703243e+01],\n",
       "       [ 1.59512129e+01,  2.38454018e+01],\n",
       "       [ 1.88572521e+01,  6.78780413e+00],\n",
       "       [ 1.46699133e+01,  2.46107998e+01],\n",
       "       [-2.36041603e+01, -2.12391644e+01],\n",
       "       [-4.59374809e+00, -4.37055159e+00],\n",
       "       [-2.20920792e+01, -2.05685387e+01],\n",
       "       [-6.67951488e+00, -4.74469471e+00],\n",
       "       [-3.44594612e+01, -2.16967602e+01],\n",
       "       [ 1.68132935e+01,  2.06828957e+01],\n",
       "       [ 9.30501640e-01, -1.28123379e+01],\n",
       "       [-2.39609170e+00, -1.37419167e+01],\n",
       "       [ 7.56297445e+00,  5.60772610e+00],\n",
       "       [-6.46913004e+00, -4.27724314e+00],\n",
       "       [ 1.49130602e+01,  1.66438770e+01],\n",
       "       [ 1.17295914e+01,  1.47690296e+01],\n",
       "       [ 2.95050454e+00,  1.01672564e+01],\n",
       "       [ 1.89269638e+01,  2.60183964e+01],\n",
       "       [ 1.22646570e+00, -1.20605659e+01],\n",
       "       [ 5.03627157e+00,  6.97504616e+00],\n",
       "       [ 1.55204659e+01,  2.52709732e+01],\n",
       "       [ 1.93396492e+01,  1.36621513e+01],\n",
       "       [-1.69222889e+01, -1.95283146e+01],\n",
       "       [ 1.46652117e+01,  1.70830326e+01],\n",
       "       [ 2.10683041e+01,  2.45877895e+01],\n",
       "       [-3.07314472e+01, -2.07573910e+01],\n",
       "       [-2.42744560e+01, -1.68307476e+01],\n",
       "       [ 1.96878777e+01,  2.44112816e+01],\n",
       "       [ 1.40355051e+00, -1.17147169e+01],\n",
       "       [ 1.04070587e+01,  1.28537874e+01],\n",
       "       [ 4.32373047e+00,  5.52195597e+00],\n",
       "       [-2.06673870e+01, -1.79989128e+01],\n",
       "       [-1.19061441e+01,  1.44969475e+00],\n",
       "       [-1.36870086e+00, -1.20625429e+01],\n",
       "       [-3.52232361e+01, -1.96960793e+01],\n",
       "       [ 1.94355068e+01,  2.17308426e+01],\n",
       "       [ 1.65526676e+01,  1.50625343e+01],\n",
       "       [-2.88528595e+01, -2.05088577e+01],\n",
       "       [-1.74237328e+01, -2.05449009e+01],\n",
       "       [-1.70743637e+01, -1.14795094e+01],\n",
       "       [ 1.48324337e+01,  9.93842983e+00],\n",
       "       [ 1.82722206e+01,  7.03195143e+00],\n",
       "       [-1.65544853e+01, -1.05226707e+01],\n",
       "       [-3.66390152e+01, -2.28652840e+01],\n",
       "       [ 3.79434419e+00, -1.47910857e+00],\n",
       "       [ 5.49972677e+00,  8.84739399e+00],\n",
       "       [ 8.74450302e+00, -1.13160908e+00],\n",
       "       [ 1.66025486e+01,  1.07472420e+01],\n",
       "       [ 1.25995359e+01,  7.50434875e+00],\n",
       "       [-1.74523430e+01, -1.97750130e+01],\n",
       "       [-3.54852448e+01, -2.04871712e+01],\n",
       "       [ 2.07610154e+00,  1.01796627e+01],\n",
       "       [ 4.39032936e+00,  2.19393969e+00],\n",
       "       [-3.45592999e+00, -1.05158055e+00],\n",
       "       [-1.24686456e+00, -1.14302454e+01],\n",
       "       [ 1.46063356e+01,  2.42993698e+01],\n",
       "       [-2.63946390e+00,  7.58244705e+00],\n",
       "       [ 1.81275702e+00,  1.03426676e+01],\n",
       "       [ 4.22521353e+00, -1.52899826e+00],\n",
       "       [ 1.71564817e+00, -1.16249189e+01],\n",
       "       [ 2.03780003e+01,  2.49602776e+01],\n",
       "       [ 1.70032024e+00,  9.75323772e+00],\n",
       "       [-2.72750683e+01, -1.68156929e+01],\n",
       "       [ 1.11082754e+01,  4.67704487e+00],\n",
       "       [-1.48440623e+00, -1.18217573e+01],\n",
       "       [ 1.65853481e+01,  2.16855965e+01],\n",
       "       [-3.59329529e+01, -2.30465527e+01],\n",
       "       [ 6.23180246e+00, -7.42012072e+00],\n",
       "       [-2.63606873e+01, -1.58407278e+01],\n",
       "       [-2.27394753e+01, -2.23909492e+01],\n",
       "       [-1.50764382e+00, -1.12522554e+01],\n",
       "       [-2.96866302e+01, -1.71630116e+01],\n",
       "       [ 1.49823141e+01,  5.60993671e+00],\n",
       "       [ 8.57665253e+00, -1.78994536e+00],\n",
       "       [ 1.73937149e+01,  2.34343510e+01],\n",
       "       [ 2.24587479e+01,  2.13890514e+01],\n",
       "       [ 8.36201668e+00,  8.16105270e+00],\n",
       "       [ 1.51365557e+01,  1.50085106e+01],\n",
       "       [ 3.86203051e+00,  1.04619837e+01],\n",
       "       [-3.62609367e+01, -2.16713791e+01],\n",
       "       [-5.08883762e+00, -2.43061614e+00],\n",
       "       [ 1.49505730e+01,  1.13684626e+01],\n",
       "       [ 8.50129414e+00,  3.14020538e+00],\n",
       "       [ 7.31156254e+00, -5.93536139e+00],\n",
       "       [-2.96879935e+00, -1.85600996e+00],\n",
       "       [-1.02218971e+01, -1.98448837e+00],\n",
       "       [-2.29212399e+01, -2.05141277e+01],\n",
       "       [ 2.12687073e+01,  1.58882799e+01],\n",
       "       [-1.08691902e+01,  2.09241557e+00],\n",
       "       [ 7.06330490e+00,  8.07846832e+00],\n",
       "       [ 1.53072977e+01,  1.38936558e+01],\n",
       "       [ 1.44749250e+01,  1.59600067e+01],\n",
       "       [-2.44007683e+01, -2.07240009e+01],\n",
       "       [-2.37971840e+01, -1.79847889e+01],\n",
       "       [ 4.09831095e+00,  6.72476387e+00],\n",
       "       [ 1.59197817e+01,  7.98131657e+00],\n",
       "       [-2.56069374e+01, -1.89647388e+01],\n",
       "       [-2.10203400e+01, -2.08145084e+01],\n",
       "       [ 1.28732147e+01,  3.18365812e+00],\n",
       "       [-1.31721830e+01,  3.93201399e+00],\n",
       "       [ 1.88794270e+01,  2.41979141e+01],\n",
       "       [-3.52788429e+01, -2.28494663e+01],\n",
       "       [ 9.48935986e+00,  9.50320244e+00],\n",
       "       [ 1.60720482e+01,  2.55912132e+01],\n",
       "       [-2.31343384e+01, -2.35228519e+01],\n",
       "       [ 5.53079605e+00, -6.17954206e+00],\n",
       "       [ 1.94874549e+00,  9.40053368e+00],\n",
       "       [-3.36946907e+01, -2.21993904e+01],\n",
       "       [ 1.39528933e+01,  3.80766940e+00],\n",
       "       [-3.45437164e+01, -1.96636677e+01],\n",
       "       [-3.22022033e+00, -1.33043313e+00],\n",
       "       [ 4.41642237e+00,  1.09817467e+01],\n",
       "       [ 1.94428902e+01,  2.18345051e+01],\n",
       "       [ 1.34737787e+01,  3.60110211e+00],\n",
       "       [ 2.14855022e+01,  1.12949314e+01],\n",
       "       [ 1.04755917e+01,  7.69885957e-01],\n",
       "       [ 1.02908783e+01, -8.69804382e+00],\n",
       "       [-1.37489951e+00,  8.66479015e+00],\n",
       "       [ 1.24556627e+01,  4.52183294e+00],\n",
       "       [ 1.72000790e+01,  2.50300007e+01],\n",
       "       [-2.17092323e+01, -2.19502468e+01],\n",
       "       [ 9.74862576e+00, -7.55458307e+00],\n",
       "       [-2.12861271e+01, -2.03776112e+01],\n",
       "       [ 6.90094519e+00,  3.41257524e+00],\n",
       "       [-1.96801949e+00,  7.17635584e+00],\n",
       "       [ 1.71987038e+01,  2.02140980e+01],\n",
       "       [-1.31664238e+01,  2.41097763e-01],\n",
       "       [-3.50893822e+01, -2.20194817e+01],\n",
       "       [-9.52389657e-01, -1.22380161e+01],\n",
       "       [ 2.08501320e+01,  1.29916162e+01],\n",
       "       [-7.15824246e-01, -1.10586309e+01],\n",
       "       [-7.68544078e-01, -1.07424784e+01],\n",
       "       [-1.73480301e+01, -2.16164093e+01],\n",
       "       [ 6.46430731e+00,  1.44204178e+01],\n",
       "       [ 1.38065243e+01,  6.92633581e+00],\n",
       "       [-1.83930225e+01, -1.89547138e+01],\n",
       "       [ 2.17581787e+01,  1.46893520e+01],\n",
       "       [ 1.54409657e+01,  2.35121841e+01],\n",
       "       [ 8.05979061e+00, -5.49475050e+00],\n",
       "       [-4.33644676e+00, -4.55908489e+00],\n",
       "       [ 1.91237278e+01,  2.17988930e+01],\n",
       "       [-2.46194706e+01, -1.98061447e+01],\n",
       "       [-1.72738380e+01, -1.90549717e+01],\n",
       "       [-2.09729576e+01, -1.78806915e+01],\n",
       "       [-1.13434944e+01,  1.74236465e+00],\n",
       "       [ 1.29592857e+01,  1.74681301e+01],\n",
       "       [-2.35713482e+01, -1.83512630e+01],\n",
       "       [ 4.09825993e+00, -5.69177246e+00],\n",
       "       [ 1.11715794e+01,  4.61924410e+00],\n",
       "       [-1.21141701e+01,  2.47462916e+00],\n",
       "       [ 9.07479763e+00,  5.37787497e-01],\n",
       "       [-1.10534697e+01,  2.52029634e+00],\n",
       "       [ 1.87753773e+01,  6.71611071e+00],\n",
       "       [-1.99619312e+01, -2.13720932e+01],\n",
       "       [ 1.89532986e+01,  1.55502787e+01],\n",
       "       [ 7.61612272e+00, -1.72940648e+00],\n",
       "       [-1.88612328e+01, -2.04216137e+01],\n",
       "       [ 1.48454323e+01,  1.83542595e+01],\n",
       "       [ 2.13420906e+01,  1.57698936e+01],\n",
       "       [-1.13002148e+01,  2.92269325e+00],\n",
       "       [ 1.72566109e+01,  2.30539417e+01],\n",
       "       [-2.28867912e+00,  1.34966004e+00],\n",
       "       [ 1.60800152e+01,  7.46507931e+00],\n",
       "       [ 3.11443758e+00,  2.24819160e+00],\n",
       "       [-2.36021843e+01, -2.01219139e+01],\n",
       "       [ 1.47401400e+01,  2.03904209e+01],\n",
       "       [ 6.13656950e+00,  1.05993414e+00],\n",
       "       [-2.75427246e+00,  6.89156675e+00],\n",
       "       [ 6.79991341e+00, -8.14563084e+00],\n",
       "       [ 1.68939514e+01,  1.57086897e+01],\n",
       "       [-2.30234222e+01, -1.78374882e+01],\n",
       "       [ 7.53419209e+00,  6.75970125e+00],\n",
       "       [-2.19114132e+01, -2.24920616e+01],\n",
       "       [-2.88356137e+00, -1.28626013e+01],\n",
       "       [ 1.08364058e+01,  1.09576428e+00],\n",
       "       [-3.47435760e+01, -2.26079884e+01],\n",
       "       [ 1.26129351e+01,  1.35618839e+01],\n",
       "       [ 1.45134678e+01,  4.44158936e+00],\n",
       "       [ 1.04547167e+01, -8.22784424e+00],\n",
       "       [-3.40000305e+01, -2.07704563e+01],\n",
       "       [-2.04461098e+00,  7.23358822e+00],\n",
       "       [-3.12696152e+01, -2.08532619e+01],\n",
       "       [-2.13473835e+01, -1.68925171e+01],\n",
       "       [ 6.27706194e+00,  6.14856386e+00],\n",
       "       [ 1.19694490e+01,  5.39139700e+00],\n",
       "       [-2.02610207e+01, -1.91737881e+01],\n",
       "       [ 1.68262691e+01,  1.67251606e+01],\n",
       "       [ 1.89910564e+01,  1.21096144e+01],\n",
       "       [-2.52937627e+00,  7.29674244e+00],\n",
       "       [ 1.51028452e+01,  1.42327480e+01],\n",
       "       [ 1.09639692e+01,  3.37710786e+00],\n",
       "       [ 7.11570168e+00,  6.46473169e-01],\n",
       "       [ 4.42187262e+00,  7.68755865e+00],\n",
       "       [-2.62236977e+01, -1.68962746e+01],\n",
       "       [-1.27886333e+01,  3.64664054e+00],\n",
       "       [-2.25655484e+00,  1.55947411e+00],\n",
       "       [ 1.73393250e+01,  9.73216534e+00],\n",
       "       [ 6.44414759e+00, -1.50845933e+00],\n",
       "       [-2.18225813e+00, -1.10194235e+01],\n",
       "       [ 9.42821121e+00,  1.30455809e+01],\n",
       "       [-1.84913006e+01, -2.01864376e+01],\n",
       "       [ 7.75779057e+00,  1.42231226e+00],\n",
       "       [ 1.69183197e+01,  1.73105488e+01],\n",
       "       [ 2.12923393e+01,  2.38995056e+01],\n",
       "       [-1.69797287e+01, -1.18283978e+01],\n",
       "       [ 1.58438005e+01,  1.39874525e+01],\n",
       "       [-2.04877625e+01, -2.17225971e+01],\n",
       "       [ 6.34681654e+00,  4.34633207e+00],\n",
       "       [-3.54597626e+01, -2.21454105e+01],\n",
       "       [ 1.36099815e+01,  1.93792782e+01],\n",
       "       [ 5.03057861e+00, -4.94390488e+00],\n",
       "       [-1.93935566e+01, -2.21242352e+01],\n",
       "       [ 1.35357618e+01,  1.88660812e+01],\n",
       "       [-2.60271668e+00, -8.95204365e-01],\n",
       "       [ 1.93892136e+01,  1.41844225e+01],\n",
       "       [ 1.14984732e+01, -4.87760216e-01],\n",
       "       [ 1.59032526e+01,  1.98713417e+01],\n",
       "       [ 6.90315533e+00,  3.46826935e+00],\n",
       "       [ 1.96419754e+01,  1.62504864e+01],\n",
       "       [ 8.20231628e+00, -6.37640905e+00],\n",
       "       [ 4.95111895e+00,  1.92340350e+00],\n",
       "       [-2.02068310e+01, -2.10222988e+01],\n",
       "       [-1.20027895e+01,  2.52483696e-01],\n",
       "       [-1.26844988e+01,  3.99001074e+00],\n",
       "       [-2.26752167e+01, -2.12646675e+01],\n",
       "       [ 1.48045397e+01,  2.00844326e+01],\n",
       "       [-2.55438309e+01, -1.69748135e+01],\n",
       "       [ 1.81078777e+01,  6.72215080e+00],\n",
       "       [-2.83241768e+01, -1.80940666e+01],\n",
       "       [ 1.60894890e+01,  1.92805996e+01],\n",
       "       [-1.76032519e+00,  8.99534798e+00],\n",
       "       [ 4.21099091e+00,  2.84980965e+00],\n",
       "       [-5.94185638e+00, -3.95426679e+00],\n",
       "       [-8.79256785e-01, -1.04365711e+01],\n",
       "       [-5.46557617e+00, -3.37641215e+00],\n",
       "       [-2.00099945e+01, -2.22995911e+01],\n",
       "       [ 4.46607065e+00,  9.53417969e+00],\n",
       "       [-1.65430641e+01, -1.14205370e+01],\n",
       "       [ 8.60677147e+00,  5.93898726e+00],\n",
       "       [-2.18024845e+01, -2.32460003e+01],\n",
       "       [ 1.72361183e+01,  9.95336723e+00],\n",
       "       [ 9.87264347e+00, -1.78545761e+00],\n",
       "       [-3.49236183e+01, -2.04213753e+01],\n",
       "       [ 1.50401199e+00, -1.16573219e+01],\n",
       "       [ 5.02969265e+00, -4.92499924e+00],\n",
       "       [ 8.65981960e+00, -8.27174091e+00],\n",
       "       [ 1.41626196e+01,  1.91165504e+01],\n",
       "       [ 1.59983368e+01,  5.94442177e+00],\n",
       "       [ 7.10371017e+00, -8.30625343e+00],\n",
       "       [ 1.52471333e+01,  3.87629843e+00],\n",
       "       [ 1.81357899e+01,  2.43972168e+01],\n",
       "       [-3.43879128e+01, -2.27858410e+01],\n",
       "       [ 1.13754864e+01, -8.26759624e+00]], dtype=float32)"
      ]
     },
     "execution_count": 87,
     "metadata": {},
     "output_type": "execute_result"
    }
   ],
   "source": [
    "tsne = TSNE(n_components=2, learning_rate=250, random_state=100)\n",
    "X_train_tsne = tsne.fit_transform(X_train_scaled)\n",
    "X_train_tsne"
   ]
  },
  {
   "cell_type": "code",
   "execution_count": 51,
   "metadata": {},
   "outputs": [],
   "source": [
    "import matplotlib.pyplot as plt\n",
    "%matplotlib inline"
   ]
  },
  {
   "cell_type": "code",
   "execution_count": 54,
   "metadata": {},
   "outputs": [
    {
     "data": {
      "text/plain": [
       "<matplotlib.collections.PathCollection at 0x7f1c49d48048>"
      ]
     },
     "execution_count": 54,
     "metadata": {},
     "output_type": "execute_result"
    },
    {
     "data": {
      "image/png": "[encoded data removed]",
      "text/plain": [
       "<Figure size 432x288 with 1 Axes>"
      ]
     },
     "metadata": {
      "needs_background": "light"
     },
     "output_type": "display_data"
    }
   ],
   "source": [
    "plt.scatter(X_train_tsne[:, 0], X_train_tsne[:, 1])"
   ]
  },
  {
   "cell_type": "markdown",
   "metadata": {},
   "source": [
    "# TASK 2"
   ]
  },
  {
   "cell_type": "code",
   "execution_count": 55,
   "metadata": {},
   "outputs": [],
   "source": [
    "from sklearn.cluster import KMeans"
   ]
  },
  {
   "cell_type": "code",
   "execution_count": 75,
   "metadata": {},
   "outputs": [],
   "source": [
    "kmeans = KMeans(n_clusters=3, max_iter=100, random_state=42)"
   ]
  },
  {
   "cell_type": "code",
   "execution_count": 86,
   "metadata": {},
   "outputs": [
    {
     "data": {
      "text/plain": [
       "array([1, 0, 2, 1, 0, 0, 0, 2, 1, 1, 0, 0, 0, 1, 0, 0, 0, 2, 0, 2, 1, 0,\n",
       "       2, 0, 2, 0, 1, 2, 0, 2, 0, 0, 1, 1, 0, 2, 2, 0, 0, 2, 2, 0, 1, 0,\n",
       "       1, 1, 0, 0, 1, 1, 0, 0, 0, 0, 1, 1, 0, 1, 0, 0, 0, 0, 0, 0, 0, 1,\n",
       "       0, 0, 1, 0, 0, 0, 1, 0, 0, 0, 2, 0, 1, 1, 1, 1, 2, 0, 1, 1, 1, 2,\n",
       "       1, 0, 0, 1, 1, 2, 2, 0, 1, 1, 0, 1, 0, 2, 2, 2, 0, 0, 2, 0, 0, 0,\n",
       "       1, 2, 0, 2, 2, 1, 1, 1, 0, 0, 0, 1, 1, 0, 2, 1, 1, 2, 2, 1, 2, 0,\n",
       "       0, 0, 0, 1, 0, 2, 0, 1, 0, 1, 0, 0, 0, 1, 0, 0, 0, 0, 0, 1, 2, 0,\n",
       "       2, 1, 1, 1, 1, 1, 2, 0, 1, 0, 1, 2, 2, 0, 2, 0, 0, 2, 2, 1, 2, 2,\n",
       "       1, 1, 2, 0, 0, 0, 1, 0, 1, 1, 2, 2, 1, 1, 1, 0, 0, 1, 1, 0, 0, 0,\n",
       "       0, 0, 1, 1, 0, 0, 0, 1, 2, 0, 0, 0, 0, 2, 0, 1, 0, 1, 2, 1, 0, 1,\n",
       "       1, 1, 1, 0, 0, 2, 2, 0, 2, 0, 1, 0, 0, 0, 0, 0, 1, 1, 2, 0, 0, 2,\n",
       "       2, 1, 1, 0, 2, 1, 1, 0, 2, 2, 1, 0, 2, 1, 0, 0, 1, 0, 1, 0, 0, 2,\n",
       "       0, 0, 0, 0, 0, 0, 2, 1, 0, 1, 0, 0, 2, 0, 1, 1, 2, 1, 0, 1, 0, 0,\n",
       "       1, 2, 2, 0, 1, 2, 1, 1, 1, 0, 2, 1, 0, 0, 0, 0, 0, 0, 1, 2, 0, 1,\n",
       "       2, 2, 0, 2, 0, 2, 0, 1, 2, 0, 0, 0, 2, 1, 0, 1, 1, 0, 1, 2, 0, 0,\n",
       "       1, 0, 1, 1, 0, 0, 1, 2, 0, 0, 2, 0, 0, 0, 1, 0, 0, 0, 0, 1, 0, 1,\n",
       "       0, 2, 2, 1, 2, 1, 0, 1, 2, 0, 1, 2, 0, 2, 0, 2, 0, 2, 0, 0, 1, 0,\n",
       "       2, 1, 2, 1, 0, 1, 2, 0, 0, 1, 0, 1, 1, 0, 1, 0, 1, 0, 0, 1, 0, 0,\n",
       "       0, 2, 0, 0, 0, 2, 1, 0], dtype=int32)"
      ]
     },
     "execution_count": 86,
     "metadata": {},
     "output_type": "execute_result"
    }
   ],
   "source": [
    "label_trains = kmeans.fit_predict(X_train_scaled)\n",
    "label_trains"
   ]
  },
  {
   "cell_type": "code",
   "execution_count": 77,
   "metadata": {},
   "outputs": [
    {
     "data": {
      "text/plain": [
       "0    191\n",
       "1    127\n",
       "2     86\n",
       "dtype: int64"
      ]
     },
     "execution_count": 77,
     "metadata": {},
     "output_type": "execute_result"
    }
   ],
   "source": [
    "pd.value_counts(label_trains)"
   ]
  },
  {
   "cell_type": "code",
   "execution_count": 88,
   "metadata": {},
   "outputs": [
    {
     "data": {
      "text/plain": [
       "Text(4, 22, 'Кластер 2')"
      ]
     },
     "execution_count": 88,
     "metadata": {},
     "output_type": "execute_result"
    },
    {
     "data": {
      "image/png": "[encoded data removed]",
      "text/plain": [
       "<Figure size 432x288 with 1 Axes>"
      ]
     },
     "metadata": {
      "needs_background": "light"
     },
     "output_type": "display_data"
    }
   ],
   "source": [
    "plt.scatter(X_train_tsne[:, 0], X_train_tsne[:, 1], c=label_trains)\n",
    "plt.text(-35, -12, \"Кластер 1\")\n",
    "plt.text(10, -12, \"Кластер 0\")\n",
    "plt.text(4, 22, \"Кластер 2\")"
   ]
  },
  {
   "cell_type": "code",
   "execution_count": 98,
   "metadata": {},
   "outputs": [
    {
     "data": {
      "text/plain": [
       "price    24.958115\n",
       "dtype: float64"
      ]
     },
     "execution_count": 98,
     "metadata": {},
     "output_type": "execute_result"
    }
   ],
   "source": [
    "price_mean_cluster_0 = y_train[label_trains==0].mean()\n",
    "price_mean_cluster_0"
   ]
  },
  {
   "cell_type": "code",
   "execution_count": 101,
   "metadata": {},
   "outputs": [
    {
     "data": {
      "text/plain": [
       "price    16.165354\n",
       "dtype: float64"
      ]
     },
     "execution_count": 101,
     "metadata": {},
     "output_type": "execute_result"
    }
   ],
   "source": [
    "price_mean_cluster_1 = y_train[label_trains==1].mean()\n",
    "price_mean_cluster_1"
   ]
  },
  {
   "cell_type": "code",
   "execution_count": 102,
   "metadata": {},
   "outputs": [
    {
     "data": {
      "text/plain": [
       "price    27.788372\n",
       "dtype: float64"
      ]
     },
     "execution_count": 102,
     "metadata": {},
     "output_type": "execute_result"
    }
   ],
   "source": [
    "price_mean_cluster_2 = y_train[label_trains==2].mean()\n",
    "price_mean_cluster_2"
   ]
  },
  {
   "cell_type": "code",
   "execution_count": 106,
   "metadata": {},
   "outputs": [],
   "source": [
    "crim = X_train['CRIM']"
   ]
  },
  {
   "cell_type": "code",
   "execution_count": 107,
   "metadata": {},
   "outputs": [
    {
     "data": {
      "text/plain": [
       "0.4216602094240837"
      ]
     },
     "execution_count": 107,
     "metadata": {},
     "output_type": "execute_result"
    }
   ],
   "source": [
    "crim_mean_cluster_0 = crim[label_trains==0].mean()\n",
    "crim_mean_cluster_0"
   ]
  },
  {
   "cell_type": "code",
   "execution_count": 108,
   "metadata": {},
   "outputs": [
    {
     "data": {
      "text/plain": [
       "10.797028425196851"
      ]
     },
     "execution_count": 108,
     "metadata": {},
     "output_type": "execute_result"
    }
   ],
   "source": [
    "crim_mean_cluster_1 = crim[label_trains==1].mean()\n",
    "crim_mean_cluster_1"
   ]
  },
  {
   "cell_type": "code",
   "execution_count": 109,
   "metadata": {},
   "outputs": [
    {
     "data": {
      "text/plain": [
       "0.07356558139534884"
      ]
     },
     "execution_count": 109,
     "metadata": {},
     "output_type": "execute_result"
    }
   ],
   "source": [
    "crim_mean_cluster_2 = crim[label_trains==2].mean()\n",
    "crim_mean_cluster_2"
   ]
  },
  {
   "cell_type": "markdown",
   "metadata": {},
   "source": [
    "# TASK 3"
   ]
  },
  {
   "cell_type": "code",
   "execution_count": 112,
   "metadata": {},
   "outputs": [],
   "source": [
    "labels_test = kmeans.predict(X_test_scaled)"
   ]
  },
  {
   "cell_type": "code",
   "execution_count": 115,
   "metadata": {},
   "outputs": [
    {
     "data": {
      "text/plain": [
       "price    21.860784\n",
       "dtype: float64"
      ]
     },
     "execution_count": 115,
     "metadata": {},
     "output_type": "execute_result"
    }
   ],
   "source": [
    "price_mean_cluster_0 = y_test[labels_test==0].mean()\n",
    "price_mean_cluster_0"
   ]
  },
  {
   "cell_type": "code",
   "execution_count": 113,
   "metadata": {},
   "outputs": [
    {
     "data": {
      "text/plain": [
       "price    16.437143\n",
       "dtype: float64"
      ]
     },
     "execution_count": 113,
     "metadata": {},
     "output_type": "execute_result"
    }
   ],
   "source": [
    "price_mean_cluster_1 = y_test[labels_test==1].mean()\n",
    "price_mean_cluster_1"
   ]
  },
  {
   "cell_type": "code",
   "execution_count": 116,
   "metadata": {},
   "outputs": [
    {
     "data": {
      "text/plain": [
       "price    31.35\n",
       "dtype: float64"
      ]
     },
     "execution_count": 116,
     "metadata": {},
     "output_type": "execute_result"
    }
   ],
   "source": [
    "price_mean_cluster_2 = y_test[labels_test==2].mean()\n",
    "price_mean_cluster_2"
   ]
  },
  {
   "cell_type": "code",
   "execution_count": 117,
   "metadata": {},
   "outputs": [],
   "source": [
    "crim = X_test['CRIM']"
   ]
  },
  {
   "cell_type": "code",
   "execution_count": 120,
   "metadata": {},
   "outputs": [
    {
     "data": {
      "text/plain": [
       "0.2660788235294118"
      ]
     },
     "execution_count": 120,
     "metadata": {},
     "output_type": "execute_result"
    }
   ],
   "source": [
    "crim_mean_cluster_0 = crim[labels_test==0].mean()\n",
    "crim_mean_cluster_0"
   ]
  },
  {
   "cell_type": "code",
   "execution_count": 119,
   "metadata": {},
   "outputs": [
    {
     "data": {
      "text/plain": [
       "10.165531142857143"
      ]
     },
     "execution_count": 119,
     "metadata": {},
     "output_type": "execute_result"
    }
   ],
   "source": [
    "crim_mean_cluster_1 = crim[labels_test==1].mean()\n",
    "crim_mean_cluster_1"
   ]
  },
  {
   "cell_type": "code",
   "execution_count": 118,
   "metadata": {},
   "outputs": [
    {
     "data": {
      "text/plain": [
       "0.06206"
      ]
     },
     "execution_count": 118,
     "metadata": {},
     "output_type": "execute_result"
    }
   ],
   "source": [
    "crim_mean_cluster_2 = crim[labels_test==2].mean()\n",
    "crim_mean_cluster_2"
   ]
  }
 ],
 "metadata": {
  "kernelspec": {
   "display_name": "Python 3",
   "language": "python",
   "name": "python3"
  },
  "language_info": {
   "codemirror_mode": {
    "name": "ipython",
    "version": 3
   },
   "file_extension": ".py",
   "mimetype": "text/x-python",
   "name": "python",
   "nbconvert_exporter": "python",
   "pygments_lexer": "ipython3",
   "version": "3.6.8"
  }
 },
 "nbformat": 4,
 "nbformat_minor": 2
}
